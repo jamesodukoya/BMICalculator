{
 "cells": [
  {
   "cell_type": "code",
   "execution_count": 14,
   "id": "36cf8649",
   "metadata": {},
   "outputs": [
    {
     "name": "stdout",
     "output_type": "stream",
     "text": [
      "What's your name? James\n",
      "What's your weight(lb)? 180\n",
      "What's your height(in)? 0\n",
      "Please enter valid values\n",
      "Do you want to try again? Y/n S\n",
      "Please, enter Y/n\n",
      "Do you want to try again? Y/n Y\n",
      "What's your name? 10\n",
      "Please enter a valid name\n",
      "Do you want to try again? Y/n Y\n",
      "What's your name? James\n",
      "What's your weight(lb)? 200\n",
      "What's your height(in)? 69\n",
      "Your Body Mass Index is  29.531611006091158 James, you're overweight.\n",
      "Do you want to try again? Y/n S\n",
      "Please, enter Y/n\n",
      "Do you want to try again? Y/n S\n",
      "Okay, it seems I can't help you!\n"
     ]
    }
   ],
   "source": [
    "def bmi_calculator():\n",
    "    name=input(\"What's your name? \")\n",
    "    try:\n",
    "        float(name)\n",
    "        print('Please enter a valid name')\n",
    "    except:\n",
    "        weight=input(\"What's your weight(lb)? \")\n",
    "        height=input(\"What's your height(in)? \")\n",
    "        try:\n",
    "            weight=float(weight)\n",
    "            height=float(height)\n",
    "            BMI=(weight*703)/(height**2)\n",
    "            if BMI>0 and type:\n",
    "                if BMI<=18.5:\n",
    "                    print('Your Body Mass Index is ',BMI,name+\",\",\"you're underweight\")\n",
    "                elif 18.5<=BMI<24.9:\n",
    "                    print('Your Body Mass Index is ',BMI,name+\",\",\"your weight is normal.\")\n",
    "                elif BMI<=29.9:\n",
    "                    print('Your Body Mass Index is ',BMI,name+\",\",\"you're overweight.\")\n",
    "                elif BMI<=34.9:\n",
    "                    print('Your Body Mass Index is',BMI,name+\",\",\"you're obese.\")\n",
    "                elif BMI<=39.9:\n",
    "                    print('Your Body Mass Index is ',BMI,name+\",\",\"you're severely obese.\")\n",
    "                else:\n",
    "                    print('Your Body Mass Index is',BMI,name+\",\",\"you're morbidly obese!\")\n",
    "        except:\n",
    "            print('Please enter valid values')\n",
    "while True:\n",
    "    bmi_calculator()\n",
    "    cond=input(\"Do you want to try again? Y/n \")\n",
    "    if cond==\"n\":\n",
    "        print(\"Good bye!\")\n",
    "        break\n",
    "    elif cond!=\"n\" and cond!=\"Y\":\n",
    "        print(\"Please, enter Y/n\")\n",
    "        cond=input(\"Do you want to try again? Y/n \")\n",
    "        if cond==\"Y\":\n",
    "            continue\n",
    "        elif cond==\"n\":\n",
    "            print(\"Good bye!\")\n",
    "            break\n",
    "        else:\n",
    "            print(\"Okay, it seems I can't help you. Bye!\")\n",
    "            break"
   ]
  },
  {
   "cell_type": "code",
   "execution_count": null,
   "id": "2c45c0fb",
   "metadata": {},
   "outputs": [],
   "source": []
  }
 ],
 "metadata": {
  "kernelspec": {
   "display_name": "Python 3 (ipykernel)",
   "language": "python",
   "name": "python3"
  },
  "language_info": {
   "codemirror_mode": {
    "name": "ipython",
    "version": 3
   },
   "file_extension": ".py",
   "mimetype": "text/x-python",
   "name": "python",
   "nbconvert_exporter": "python",
   "pygments_lexer": "ipython3",
   "version": "3.11.5"
  }
 },
 "nbformat": 4,
 "nbformat_minor": 5
}
